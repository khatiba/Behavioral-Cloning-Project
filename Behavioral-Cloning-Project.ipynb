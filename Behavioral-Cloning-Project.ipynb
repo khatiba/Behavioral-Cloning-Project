{
 "cells": [
  {
   "cell_type": "markdown",
   "metadata": {},
   "source": [
    "### Load the CSV Data and Fix Paths"
   ]
  },
  {
   "cell_type": "code",
   "execution_count": null,
   "metadata": {},
   "outputs": [],
   "source": [
    "import cv2\n",
    "import csv\n",
    "import numpy as np\n",
    "\n",
    "samples = []\n",
    "\n",
    "for datapath in ['./track-1', './track-2']:\n",
    "\n",
    "    with open('./{}/driving_log.csv'.format(datapath)) as fp:\n",
    "        reader = csv.reader(fp)\n",
    "\n",
    "        adjustments = [0, 0.2, -0.2]\n",
    "\n",
    "        for line in reader:    \n",
    "            for i in range(3):\n",
    "                path = './{}/IMG/{}'.format(datapath, line[i].split('/')[-1])\n",
    "                measurement = float(line[3]) + adjustments[i]\n",
    "                \n",
    "                samples.append((path, measurement))\n",
    "\n",
    "num_samples = len(samples)\n",
    "print('Total samples: {}'.format(len(samples)))\n",
    "\n",
    "training_samples = samples[:int(num_samples * 0.8)]\n",
    "num_training_samples = len(training_samples)\n",
    "print('Training samples: {}'.format(num_training_samples))\n",
    "\n",
    "validation_samples = samples[int(num_samples * 0.8):]\n",
    "num_validation_samples = len(validation_samples)\n",
    "print('Validation samples: {}'.format(num_validation_samples))"
   ]
  },
  {
   "cell_type": "code",
   "execution_count": null,
   "metadata": {
    "scrolled": false
   },
   "outputs": [],
   "source": [
    "import matplotlib.pyplot as plt\n",
    "\n",
    "\n",
    "test_image = cv2.imread(samples[0][0])\n",
    "input_shape = test_image.shape\n",
    "print('Input shape: {}'.format(input_shape))\n",
    "\n",
    "plt.imshow(test_image)\n",
    "plt.show()\n"
   ]
  },
  {
   "cell_type": "markdown",
   "metadata": {},
   "source": [
    "### Load Data Set"
   ]
  },
  {
   "cell_type": "code",
   "execution_count": null,
   "metadata": {
    "collapsed": true,
    "scrolled": false
   },
   "outputs": [],
   "source": [
    "import math\n",
    "\n",
    "\n",
    "epochs = 10\n",
    "batch_size = 512\n",
    "\n",
    "def batch_generator(samples):\n",
    "\n",
    "    num_batches = math.ceil(len(samples) / batch_size)\n",
    "    \n",
    "    while True:\n",
    "\n",
    "        for i in range(0, num_batches):\n",
    "\n",
    "            start = i * batch_size\n",
    "            end = start + batch_size\n",
    "            batch = samples[start:end]\n",
    "\n",
    "            batch_inputs = []\n",
    "            batch_targets = []\n",
    "\n",
    "            for path, measurement in batch:\n",
    "                batch_inputs.append(cv2.imread(path))\n",
    "                batch_targets.append(measurement)\n",
    "\n",
    "            yield (np.array(batch_inputs), np.array(batch_targets))\n",
    "\n",
    "\n",
    "def training_generator():\n",
    "    return batch_generator(training_samples)\n",
    "\n",
    "\n",
    "def validation_generator():\n",
    "    return batch_generator(validation_samples)\n",
    "\n",
    "\n",
    "# for out in training_generator():\n",
    "#     inputs, targets = out\n",
    "#     print(targets[1])\n",
    "#     plt.imshow(inputs[0])\n",
    "#     plt.show()"
   ]
  },
  {
   "cell_type": "markdown",
   "metadata": {},
   "source": [
    "### Network Architecture"
   ]
  },
  {
   "cell_type": "code",
   "execution_count": null,
   "metadata": {},
   "outputs": [],
   "source": [
    "import keras\n",
    "from keras.models import Sequential, Model\n",
    "from keras.layers.core import Dense, Activation, Flatten, Dropout, Lambda, Dropout\n",
    "from keras.layers.convolutional import Convolution2D, MaxPooling2D, Cropping2D\n",
    "\n",
    "\n",
    "model = Sequential()\n",
    "model.add(Lambda(lambda x: x / 255.0 - 0.5, input_shape=input_shape))\n",
    "model.add(Cropping2D(cropping=((65, 25), (0, 0))))\n",
    "\n",
    "model.add(Convolution2D(24, (5, 5), strides=(2, 2), activation='relu'))\n",
    "model.add(Convolution2D(36, (5, 5), strides=(2, 2), activation='relu'))\n",
    "model.add(Convolution2D(48, (5, 5), strides=(2, 2), activation='relu'))\n",
    "model.add(Convolution2D(64, (3, 3), strides=(1, 1), activation='relu'))\n",
    "model.add(Convolution2D(64, (3, 3), strides=(1, 1), activation='relu'))\n",
    "model.add(Flatten())\n",
    "model.add(Dense(100))\n",
    "model.add(Dense(50))\n",
    "model.add(Dense(10))\n",
    "model.add(Dense(1))\n",
    "\n",
    "\n",
    "'''\n",
    "# LeNet\n",
    "model.add(Convolution2D(6, (5,5), activation='relu'))\n",
    "model.add(MaxPooling2D(pool_size=(2, 2), padding='valid'))\n",
    "model.add(Convolution2D(6, (5,5), activation='relu'))\n",
    "model.add(MaxPooling2D(pool_size=(2, 2), padding='valid'))\n",
    "model.add(Flatten())\n",
    "model.add(Dense(120))\n",
    "model.add(Dense(84))\n",
    "model.add(Dense(1))\n",
    "'''\n",
    "\n",
    "model.compile(loss='mse', optimizer='adam')\n",
    "\n",
    "# history_object = model.fit(X_train, y_train, validation_split=0.2, shuffle=True, epochs=3)\n",
    "\n",
    "history_object = model.fit_generator(\n",
    "    generator=training_generator(),\n",
    "    steps_per_epoch=math.ceil(len(training_samples) / batch_size),\n",
    "    validation_data=validation_generator(),\n",
    "    validation_steps=math.ceil(len(validation_samples) / batch_size),\n",
    "    epochs=10,\n",
    "    initial_epoch=0,\n",
    "    verbose=1\n",
    ")\n",
    "\n",
    "### print the keys contained in the history object\n",
    "print(history_object.history.keys())\n",
    "\n",
    "### plot the training and validation loss for each epoch\n",
    "plt.plot(history_object.history['loss'])\n",
    "plt.plot(history_object.history['val_loss'])\n",
    "plt.title('model mean squared error loss')\n",
    "plt.ylabel('mean squared error loss')\n",
    "plt.xlabel('epoch')\n",
    "plt.legend(['training set', 'validation set'], loc='upper right')\n",
    "plt.show()\n",
    "\n",
    "\n",
    "model.save('model.h5')\n",
    "\n",
    "print('Model saved.')"
   ]
  },
  {
   "cell_type": "code",
   "execution_count": null,
   "metadata": {
    "collapsed": true
   },
   "outputs": [],
   "source": []
  }
 ],
 "metadata": {
  "anaconda-cloud": {},
  "kernelspec": {
   "display_name": "Python 3",
   "language": "python",
   "name": "python3"
  },
  "language_info": {
   "codemirror_mode": {
    "name": "ipython",
    "version": 3
   },
   "file_extension": ".py",
   "mimetype": "text/x-python",
   "name": "python",
   "nbconvert_exporter": "python",
   "pygments_lexer": "ipython3",
   "version": "3.5.2"
  },
  "widgets": {
   "state": {},
   "version": "1.1.2"
  }
 },
 "nbformat": 4,
 "nbformat_minor": 2
}
